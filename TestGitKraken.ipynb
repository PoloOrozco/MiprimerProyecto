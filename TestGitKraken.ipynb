{
 "cells": [
  {
   "cell_type": "markdown",
   "metadata": {},
   "source": [
    "### Presentación"
   ]
  },
  {
   "cell_type": "markdown",
   "metadata": {},
   "source": [
    "- **Nombre:** Leopoldo Orozco Moreno\n",
    "- Profesión: <font color = Red> Ingenieria Civil </font>\n",
    "- Edad: **20**\n",
    "- Pasatiempos: Ver series, leer.\n",
    "- Educación: Instituto Lux, León."
   ]
  },
  {
   "cell_type": "markdown",
   "metadata": {},
   "source": [
    "Foto:\n",
    "   <img src=\"https://cdn.pixabay.com/photo/2015/12/15/09/20/car-1093927_960_720.jpg\" width=\"200px\" height=\"50px\" />"
   ]
  },
  {
   "cell_type": "code",
   "execution_count": null,
   "metadata": {},
   "outputs": [],
   "source": []
  }
 ],
 "metadata": {
  "kernelspec": {
   "display_name": "Python 3",
   "language": "python",
   "name": "python3"
  },
  "language_info": {
   "codemirror_mode": {
    "name": "ipython",
    "version": 3
   },
   "file_extension": ".py",
   "mimetype": "text/x-python",
   "name": "python",
   "nbconvert_exporter": "python",
   "pygments_lexer": "ipython3",
   "version": "3.6.5"
  }
 },
 "nbformat": 4,
 "nbformat_minor": 2
}
